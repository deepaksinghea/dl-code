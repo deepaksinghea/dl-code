{
  "nbformat": 4,
  "nbformat_minor": 0,
  "metadata": {
    "colab": {
      "name": "abalone-regression.ipynb",
      "provenance": [],
      "collapsed_sections": []
    },
    "kernelspec": {
      "name": "python3",
      "display_name": "Python 3"
    },
    "language_info": {
      "name": "python"
    },
    "accelerator": "GPU"
  },
  "cells": [
    {
      "cell_type": "code",
      "metadata": {
        "id": "Kl8ceX1dJpZ4"
      },
      "source": [
        "import tensorflow as tf\n",
        "import pandas as pd\n",
        "import numpy as np"
      ],
      "execution_count": 22,
      "outputs": []
    },
    {
      "cell_type": "code",
      "metadata": {
        "id": "qC43KNnpJ0_P"
      },
      "source": [
        "columns = ['sex','length','diameter','height','whole weight','shucked weight','viscera weight','shell weight','rings']\n",
        "df = pd.read_csv('abalone.data',sep=',',header=None,names=columns)"
      ],
      "execution_count": 23,
      "outputs": []
    },
    {
      "cell_type": "code",
      "metadata": {
        "colab": {
          "base_uri": "https://localhost:8080/",
          "height": 195
        },
        "id": "RAy-UMrQKwcP",
        "outputId": "4fa431e2-36e7-4f6e-872d-b8707e7e7eff"
      },
      "source": [
        "df.head(5)"
      ],
      "execution_count": 24,
      "outputs": [
        {
          "output_type": "execute_result",
          "data": {
            "text/html": [
              "<div>\n",
              "<style scoped>\n",
              "    .dataframe tbody tr th:only-of-type {\n",
              "        vertical-align: middle;\n",
              "    }\n",
              "\n",
              "    .dataframe tbody tr th {\n",
              "        vertical-align: top;\n",
              "    }\n",
              "\n",
              "    .dataframe thead th {\n",
              "        text-align: right;\n",
              "    }\n",
              "</style>\n",
              "<table border=\"1\" class=\"dataframe\">\n",
              "  <thead>\n",
              "    <tr style=\"text-align: right;\">\n",
              "      <th></th>\n",
              "      <th>sex</th>\n",
              "      <th>length</th>\n",
              "      <th>diameter</th>\n",
              "      <th>height</th>\n",
              "      <th>whole weight</th>\n",
              "      <th>shucked weight</th>\n",
              "      <th>viscera weight</th>\n",
              "      <th>shell weight</th>\n",
              "      <th>rings</th>\n",
              "    </tr>\n",
              "  </thead>\n",
              "  <tbody>\n",
              "    <tr>\n",
              "      <th>0</th>\n",
              "      <td>M</td>\n",
              "      <td>0.455</td>\n",
              "      <td>0.365</td>\n",
              "      <td>0.095</td>\n",
              "      <td>0.5140</td>\n",
              "      <td>0.2245</td>\n",
              "      <td>0.1010</td>\n",
              "      <td>0.150</td>\n",
              "      <td>15</td>\n",
              "    </tr>\n",
              "    <tr>\n",
              "      <th>1</th>\n",
              "      <td>M</td>\n",
              "      <td>0.350</td>\n",
              "      <td>0.265</td>\n",
              "      <td>0.090</td>\n",
              "      <td>0.2255</td>\n",
              "      <td>0.0995</td>\n",
              "      <td>0.0485</td>\n",
              "      <td>0.070</td>\n",
              "      <td>7</td>\n",
              "    </tr>\n",
              "    <tr>\n",
              "      <th>2</th>\n",
              "      <td>F</td>\n",
              "      <td>0.530</td>\n",
              "      <td>0.420</td>\n",
              "      <td>0.135</td>\n",
              "      <td>0.6770</td>\n",
              "      <td>0.2565</td>\n",
              "      <td>0.1415</td>\n",
              "      <td>0.210</td>\n",
              "      <td>9</td>\n",
              "    </tr>\n",
              "    <tr>\n",
              "      <th>3</th>\n",
              "      <td>M</td>\n",
              "      <td>0.440</td>\n",
              "      <td>0.365</td>\n",
              "      <td>0.125</td>\n",
              "      <td>0.5160</td>\n",
              "      <td>0.2155</td>\n",
              "      <td>0.1140</td>\n",
              "      <td>0.155</td>\n",
              "      <td>10</td>\n",
              "    </tr>\n",
              "    <tr>\n",
              "      <th>4</th>\n",
              "      <td>I</td>\n",
              "      <td>0.330</td>\n",
              "      <td>0.255</td>\n",
              "      <td>0.080</td>\n",
              "      <td>0.2050</td>\n",
              "      <td>0.0895</td>\n",
              "      <td>0.0395</td>\n",
              "      <td>0.055</td>\n",
              "      <td>7</td>\n",
              "    </tr>\n",
              "  </tbody>\n",
              "</table>\n",
              "</div>"
            ],
            "text/plain": [
              "  sex  length  diameter  ...  viscera weight  shell weight  rings\n",
              "0   M   0.455     0.365  ...          0.1010         0.150     15\n",
              "1   M   0.350     0.265  ...          0.0485         0.070      7\n",
              "2   F   0.530     0.420  ...          0.1415         0.210      9\n",
              "3   M   0.440     0.365  ...          0.1140         0.155     10\n",
              "4   I   0.330     0.255  ...          0.0395         0.055      7\n",
              "\n",
              "[5 rows x 9 columns]"
            ]
          },
          "metadata": {
            "tags": []
          },
          "execution_count": 24
        }
      ]
    },
    {
      "cell_type": "code",
      "metadata": {
        "colab": {
          "base_uri": "https://localhost:8080/"
        },
        "id": "EKsnwpMqKx-9",
        "outputId": "5f9ada7b-6a45-4849-a479-2ce58ad05be5"
      },
      "source": [
        "df.shape"
      ],
      "execution_count": 25,
      "outputs": [
        {
          "output_type": "execute_result",
          "data": {
            "text/plain": [
              "(4177, 9)"
            ]
          },
          "metadata": {
            "tags": []
          },
          "execution_count": 25
        }
      ]
    },
    {
      "cell_type": "code",
      "metadata": {
        "id": "3YLWw0SqLTOt"
      },
      "source": [
        "from sklearn.model_selection import train_test_split\n",
        "from sklearn.preprocessing import OneHotEncoder, StandardScaler\n",
        "\n",
        "ohe = OneHotEncoder()\n",
        "scaler = StandardScaler()"
      ],
      "execution_count": 26,
      "outputs": []
    },
    {
      "cell_type": "code",
      "metadata": {
        "id": "IlsmT-5eLYNl"
      },
      "source": [
        "X = df[['sex','length','diameter','height','whole weight','shucked weight','viscera weight','shell weight']]\n",
        "y = df[['rings']]"
      ],
      "execution_count": 27,
      "outputs": []
    },
    {
      "cell_type": "code",
      "metadata": {
        "colab": {
          "base_uri": "https://localhost:8080/"
        },
        "id": "xi8cK-QVMAAc",
        "outputId": "ce85b195-c81c-4a27-ad3a-2ca22e3916ae"
      },
      "source": [
        "df.isna().sum()"
      ],
      "execution_count": 28,
      "outputs": [
        {
          "output_type": "execute_result",
          "data": {
            "text/plain": [
              "sex               0\n",
              "length            0\n",
              "diameter          0\n",
              "height            0\n",
              "whole weight      0\n",
              "shucked weight    0\n",
              "viscera weight    0\n",
              "shell weight      0\n",
              "rings             0\n",
              "dtype: int64"
            ]
          },
          "metadata": {
            "tags": []
          },
          "execution_count": 28
        }
      ]
    },
    {
      "cell_type": "code",
      "metadata": {
        "id": "UOkbLvbDMAqk"
      },
      "source": [
        "x1 = ohe.fit_transform(X[['sex']]).toarray()"
      ],
      "execution_count": 29,
      "outputs": []
    },
    {
      "cell_type": "code",
      "metadata": {
        "id": "bMhhXqgvNAy8"
      },
      "source": [
        "x2 = scaler.fit_transform(X[['length','diameter','height','whole weight','shucked weight','viscera weight','shell weight']])"
      ],
      "execution_count": 30,
      "outputs": []
    },
    {
      "cell_type": "code",
      "metadata": {
        "id": "mFyKdzHRNKJN"
      },
      "source": [
        "X = np.concatenate((x1,x2),axis=1)"
      ],
      "execution_count": 31,
      "outputs": []
    },
    {
      "cell_type": "code",
      "metadata": {
        "colab": {
          "base_uri": "https://localhost:8080/"
        },
        "id": "J7pSLRVBOnGg",
        "outputId": "717cf703-c2e5-4bae-b5f9-f944517d9ae4"
      },
      "source": [
        "X.shape"
      ],
      "execution_count": 32,
      "outputs": [
        {
          "output_type": "execute_result",
          "data": {
            "text/plain": [
              "(4177, 10)"
            ]
          },
          "metadata": {
            "tags": []
          },
          "execution_count": 32
        }
      ]
    },
    {
      "cell_type": "code",
      "metadata": {
        "id": "kt9e1Ff4PE3D"
      },
      "source": [
        "y = scaler.fit_transform(y)"
      ],
      "execution_count": 33,
      "outputs": []
    },
    {
      "cell_type": "code",
      "metadata": {
        "id": "_zG9E_GSPUc9"
      },
      "source": [
        "X_train, X_test, y_train, y_test = train_test_split(X, y, test_size=0.20, random_state=0)"
      ],
      "execution_count": 34,
      "outputs": []
    },
    {
      "cell_type": "code",
      "metadata": {
        "id": "GqupQ0odPfdG"
      },
      "source": [
        "from tensorflow.keras.models import Sequential\n",
        "from tensorflow.keras.layers import Dense"
      ],
      "execution_count": 35,
      "outputs": []
    },
    {
      "cell_type": "code",
      "metadata": {
        "id": "cWh3zOLnQVGL"
      },
      "source": [
        "model = Sequential()\n",
        "\n",
        "model.add(Dense(10,activation='relu'))\n",
        "model.add(Dense(10,activation='relu'))\n",
        "model.add(Dense(10,activation='relu'))\n",
        "model.add(Dense(10,activation='relu'))\n",
        "\n",
        "model.add(Dense(1))\n",
        "\n",
        "model.compile(optimizer='adam',loss='mse',metrics=['mse'])"
      ],
      "execution_count": 36,
      "outputs": []
    },
    {
      "cell_type": "code",
      "metadata": {
        "colab": {
          "base_uri": "https://localhost:8080/"
        },
        "id": "Bh84PfxyQ9KX",
        "outputId": "563afe6b-af3f-469a-fa6a-b4982d72f450"
      },
      "source": [
        "model.fit(x = X_train, y = y_train,validation_data = (X_test,y_test),epochs = 35)"
      ],
      "execution_count": 37,
      "outputs": [
        {
          "output_type": "stream",
          "text": [
            "Epoch 1/35\n",
            "105/105 [==============================] - 1s 4ms/step - loss: 1.0381 - mse: 1.0381 - val_loss: 0.6520 - val_mse: 0.6520\n",
            "Epoch 2/35\n",
            "105/105 [==============================] - 0s 3ms/step - loss: 0.6736 - mse: 0.6736 - val_loss: 0.6105 - val_mse: 0.6105\n",
            "Epoch 3/35\n",
            "105/105 [==============================] - 0s 3ms/step - loss: 0.6208 - mse: 0.6208 - val_loss: 0.5764 - val_mse: 0.5764\n",
            "Epoch 4/35\n",
            "105/105 [==============================] - 0s 3ms/step - loss: 0.5785 - mse: 0.5785 - val_loss: 0.5493 - val_mse: 0.5493\n",
            "Epoch 5/35\n",
            "105/105 [==============================] - 0s 3ms/step - loss: 0.5467 - mse: 0.5467 - val_loss: 0.5044 - val_mse: 0.5044\n",
            "Epoch 6/35\n",
            "105/105 [==============================] - 0s 3ms/step - loss: 0.5330 - mse: 0.5330 - val_loss: 0.4755 - val_mse: 0.4755\n",
            "Epoch 7/35\n",
            "105/105 [==============================] - 0s 3ms/step - loss: 0.5246 - mse: 0.5246 - val_loss: 0.4604 - val_mse: 0.4604\n",
            "Epoch 8/35\n",
            "105/105 [==============================] - 0s 3ms/step - loss: 0.4374 - mse: 0.4374 - val_loss: 0.4575 - val_mse: 0.4575\n",
            "Epoch 9/35\n",
            "105/105 [==============================] - 0s 3ms/step - loss: 0.4620 - mse: 0.4620 - val_loss: 0.4442 - val_mse: 0.4442\n",
            "Epoch 10/35\n",
            "105/105 [==============================] - 0s 3ms/step - loss: 0.4715 - mse: 0.4715 - val_loss: 0.4432 - val_mse: 0.4432\n",
            "Epoch 11/35\n",
            "105/105 [==============================] - 0s 3ms/step - loss: 0.4633 - mse: 0.4633 - val_loss: 0.4347 - val_mse: 0.4347\n",
            "Epoch 12/35\n",
            "105/105 [==============================] - 0s 3ms/step - loss: 0.4422 - mse: 0.4422 - val_loss: 0.4336 - val_mse: 0.4336\n",
            "Epoch 13/35\n",
            "105/105 [==============================] - 0s 3ms/step - loss: 0.4276 - mse: 0.4276 - val_loss: 0.4411 - val_mse: 0.4411\n",
            "Epoch 14/35\n",
            "105/105 [==============================] - 0s 3ms/step - loss: 0.3953 - mse: 0.3953 - val_loss: 0.4441 - val_mse: 0.4441\n",
            "Epoch 15/35\n",
            "105/105 [==============================] - 0s 3ms/step - loss: 0.4168 - mse: 0.4168 - val_loss: 0.4305 - val_mse: 0.4305\n",
            "Epoch 16/35\n",
            "105/105 [==============================] - 0s 3ms/step - loss: 0.4112 - mse: 0.4112 - val_loss: 0.4328 - val_mse: 0.4328\n",
            "Epoch 17/35\n",
            "105/105 [==============================] - 0s 3ms/step - loss: 0.4079 - mse: 0.4079 - val_loss: 0.4336 - val_mse: 0.4336\n",
            "Epoch 18/35\n",
            "105/105 [==============================] - 0s 3ms/step - loss: 0.4274 - mse: 0.4274 - val_loss: 0.4287 - val_mse: 0.4287\n",
            "Epoch 19/35\n",
            "105/105 [==============================] - 0s 3ms/step - loss: 0.4097 - mse: 0.4097 - val_loss: 0.4277 - val_mse: 0.4277\n",
            "Epoch 20/35\n",
            "105/105 [==============================] - 0s 3ms/step - loss: 0.4403 - mse: 0.4403 - val_loss: 0.4275 - val_mse: 0.4275\n",
            "Epoch 21/35\n",
            "105/105 [==============================] - 0s 3ms/step - loss: 0.3998 - mse: 0.3998 - val_loss: 0.4310 - val_mse: 0.4310\n",
            "Epoch 22/35\n",
            "105/105 [==============================] - 0s 3ms/step - loss: 0.3742 - mse: 0.3742 - val_loss: 0.4311 - val_mse: 0.4311\n",
            "Epoch 23/35\n",
            "105/105 [==============================] - 0s 3ms/step - loss: 0.4152 - mse: 0.4152 - val_loss: 0.4283 - val_mse: 0.4283\n",
            "Epoch 24/35\n",
            "105/105 [==============================] - 0s 3ms/step - loss: 0.4382 - mse: 0.4382 - val_loss: 0.4252 - val_mse: 0.4252\n",
            "Epoch 25/35\n",
            "105/105 [==============================] - 0s 3ms/step - loss: 0.3824 - mse: 0.3824 - val_loss: 0.4260 - val_mse: 0.4260\n",
            "Epoch 26/35\n",
            "105/105 [==============================] - 0s 3ms/step - loss: 0.4116 - mse: 0.4116 - val_loss: 0.4313 - val_mse: 0.4313\n",
            "Epoch 27/35\n",
            "105/105 [==============================] - 0s 3ms/step - loss: 0.4140 - mse: 0.4140 - val_loss: 0.4253 - val_mse: 0.4253\n",
            "Epoch 28/35\n",
            "105/105 [==============================] - 0s 3ms/step - loss: 0.4050 - mse: 0.4050 - val_loss: 0.4288 - val_mse: 0.4288\n",
            "Epoch 29/35\n",
            "105/105 [==============================] - 0s 3ms/step - loss: 0.3959 - mse: 0.3959 - val_loss: 0.4235 - val_mse: 0.4235\n",
            "Epoch 30/35\n",
            "105/105 [==============================] - 0s 3ms/step - loss: 0.4111 - mse: 0.4111 - val_loss: 0.4353 - val_mse: 0.4353\n",
            "Epoch 31/35\n",
            "105/105 [==============================] - 0s 3ms/step - loss: 0.4260 - mse: 0.4260 - val_loss: 0.4395 - val_mse: 0.4395\n",
            "Epoch 32/35\n",
            "105/105 [==============================] - 0s 3ms/step - loss: 0.3995 - mse: 0.3995 - val_loss: 0.4258 - val_mse: 0.4258\n",
            "Epoch 33/35\n",
            "105/105 [==============================] - 0s 3ms/step - loss: 0.4088 - mse: 0.4088 - val_loss: 0.4221 - val_mse: 0.4221\n",
            "Epoch 34/35\n",
            "105/105 [==============================] - 0s 3ms/step - loss: 0.3882 - mse: 0.3882 - val_loss: 0.4244 - val_mse: 0.4244\n",
            "Epoch 35/35\n",
            "105/105 [==============================] - 0s 3ms/step - loss: 0.4031 - mse: 0.4031 - val_loss: 0.4249 - val_mse: 0.4249\n"
          ],
          "name": "stdout"
        },
        {
          "output_type": "execute_result",
          "data": {
            "text/plain": [
              "<tensorflow.python.keras.callbacks.History at 0x7f682aebbe90>"
            ]
          },
          "metadata": {
            "tags": []
          },
          "execution_count": 37
        }
      ]
    },
    {
      "cell_type": "code",
      "metadata": {
        "id": "OZGRxleMReIt"
      },
      "source": [
        "y_pred = model.predict(X_test)"
      ],
      "execution_count": 38,
      "outputs": []
    },
    {
      "cell_type": "code",
      "metadata": {
        "colab": {
          "base_uri": "https://localhost:8080/"
        },
        "id": "PierZgUWTRA2",
        "outputId": "644e6caa-e4f0-431a-d1f9-7eca6febe854"
      },
      "source": [
        "from sklearn.metrics import explained_variance_score\n",
        "explained_variance_score(y_test,y_pred)"
      ],
      "execution_count": 39,
      "outputs": [
        {
          "output_type": "execute_result",
          "data": {
            "text/plain": [
              "0.5936719886777786"
            ]
          },
          "metadata": {
            "tags": []
          },
          "execution_count": 39
        }
      ]
    }
  ]
}